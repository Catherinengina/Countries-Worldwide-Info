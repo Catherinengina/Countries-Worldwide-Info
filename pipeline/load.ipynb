{
 "cells": [
  {
   "cell_type": "markdown",
   "id": "5534314f",
   "metadata": {},
   "source": [
    "Libraries"
   ]
  },
  {
   "cell_type": "code",
   "execution_count": 4,
   "id": "d6abbc22",
   "metadata": {},
   "outputs": [
    {
     "data": {
      "text/plain": [
       "True"
      ]
     },
     "execution_count": 4,
     "metadata": {},
     "output_type": "execute_result"
    }
   ],
   "source": [
    "import pandas as pd\n",
    "from sqlalchemy import create_engine\n",
    "import os\n",
    "from dotenv import load_dotenv\n",
    "\n",
    "load_dotenv(\"C:/Users/hp/Documents/Countries Worldwide Info/.env\")"
   ]
  },
  {
   "cell_type": "markdown",
   "id": "acdf43f8",
   "metadata": {},
   "source": [
    "mysql info"
   ]
  },
  {
   "cell_type": "code",
   "execution_count": 5,
   "id": "69301d32",
   "metadata": {},
   "outputs": [],
   "source": [
    "DB_USER = os.getenv(\"DB_USER\")\n",
    "DB_PASS = os.getenv(\"DB_PASS\")\n",
    "DB_NAME = os.getenv(\"DB_NAME\")\n",
    "DB_HOST = \"127.0.0.1:3307\""
   ]
  },
  {
   "cell_type": "markdown",
   "id": "ce1021c3",
   "metadata": {},
   "source": [
    "Load the clean data to Mysql"
   ]
  },
  {
   "cell_type": "code",
   "execution_count": 6,
   "id": "36144b30",
   "metadata": {},
   "outputs": [],
   "source": [
    "def load_to_mysql(df):\n",
    "    try:\n",
    "        print(\"Starting load_to_mysql...\")\n",
    "        df.to_csv(r\"C:\\Users\\hp\\Documents\\Countries Worldwide Info\\cleaned_countriesdata.csv\", index=False)\n",
    "        print(\"CSV saved successfully.\")\n",
    "        conn = mysql.connector.connect(\n",
    "            host=\"127.0.0.1\",\n",
    "            port=3307,\n",
    "            user=DB_USER,\n",
    "            password=DB_PASS,\n",
    "            database=DB_NAME\n",
    "        )\n",
    "        cursor = conn.cursor()\n",
    "        print(\"MySQL connector connection successful.\")\n",
    "\n",
    "        # Drop table if exists\n",
    "        cursor.execute(\"DROP TABLE IF EXISTS cleancountries\")\n",
    "\n",
    "        # Create table\n",
    "        create_table_query = \"\"\"\n",
    "        CREATE TABLE cleancountries (\n",
    "            Country VARCHAR(255),\n",
    "            Continent VARCHAR(255),\n",
    "            Area FLOAT,\n",
    "            Population BIGINT,\n",
    "            `Capital City` VARCHAR(255)\n",
    "        )\n",
    "        \"\"\"\n",
    "        cursor.execute(create_table_query)\n",
    "        print(\"Table cleancountries created.\")\n",
    "\n",
    "        # Insert data\n",
    "        insert_query = \"\"\"\n",
    "        INSERT INTO cleancountries (Country, Continent, Area, Population, `Capital City`)\n",
    "        VALUES (%s, %s, %s, %s, %s)\n",
    "        \"\"\"\n",
    "        for _, row in df.iterrows():\n",
    "            values = (\n",
    "                row['Country'],\n",
    "                row['Continent'],\n",
    "                row['Area'],\n",
    "                row['Population'],\n",
    "                row['Capital City'] if pd.notnull(row['Capital City']) else None\n",
    "            )\n",
    "            cursor.execute(insert_query, values)\n",
    "        conn.commit()\n",
    "        print(\"✅ Data successfully uploaded to MySQL.\")\n",
    "        cursor.close()\n",
    "        conn.close()\n",
    "    except Exception as e:\n",
    "        print(f\"Error loading data to MySQL: {e}\")\n",
    "        raise"
   ]
  }
 ],
 "metadata": {
  "kernelspec": {
   "display_name": "venv",
   "language": "python",
   "name": "python3"
  },
  "language_info": {
   "codemirror_mode": {
    "name": "ipython",
    "version": 3
   },
   "file_extension": ".py",
   "mimetype": "text/x-python",
   "name": "python",
   "nbconvert_exporter": "python",
   "pygments_lexer": "ipython3",
   "version": "3.10.11"
  }
 },
 "nbformat": 4,
 "nbformat_minor": 5
}
