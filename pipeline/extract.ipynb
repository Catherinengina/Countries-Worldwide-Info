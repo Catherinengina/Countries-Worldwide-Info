{
 "cells": [
  {
   "cell_type": "markdown",
   "id": "2c511b81",
   "metadata": {},
   "source": [
    "Libraries"
   ]
  },
  {
   "cell_type": "code",
   "execution_count": 5,
   "id": "810a30f6",
   "metadata": {},
   "outputs": [],
   "source": [
    "import requests\n",
    "import pandas as pd"
   ]
  },
  {
   "cell_type": "markdown",
   "id": "c5253d11",
   "metadata": {},
   "source": [
    "Extract from URL"
   ]
  },
  {
   "cell_type": "code",
   "execution_count": 6,
   "id": "1a1b2fa0",
   "metadata": {},
   "outputs": [],
   "source": [
    "def extract_countries_data():\n",
    "    url = \"https://restcountries.com/v3.1/all?fields=name,area,population,region,capital,continent\"\n",
    "    response = requests.get(url)\n",
    "    if response.status_code == 200:\n",
    "     countries = response.json()\n",
    "    return pd.json_normalize(countries)"
   ]
  },
  {
   "cell_type": "markdown",
   "id": "40919b6f",
   "metadata": {},
   "source": [
    "\n",
    "Load to CSV"
   ]
  },
  {
   "cell_type": "code",
   "execution_count": 7,
   "id": "babb3bde",
   "metadata": {},
   "outputs": [
    {
     "name": "stdout",
     "output_type": "stream",
     "text": [
      "       capital   region      area  population name.common  \\\n",
      "0       [Lomé]   Africa   56785.0     8278737        Togo   \n",
      "1  [Mamoudzou]   Africa     374.0      226915     Mayotte   \n",
      "2    [Tbilisi]     Asia   69700.0     3714000     Georgia   \n",
      "3  [Port Vila]  Oceania   12189.0      307150     Vanuatu   \n",
      "4    [Bishkek]     Asia  199951.0     6591600  Kyrgyzstan   \n",
      "\n",
      "           name.official name.nativeName.fra.official  \\\n",
      "0      Togolese Republic         République togolaise   \n",
      "1  Department of Mayotte       Département de Mayotte   \n",
      "2                Georgia                          NaN   \n",
      "3    Republic of Vanuatu        République de Vanuatu   \n",
      "4        Kyrgyz Republic                          NaN   \n",
      "\n",
      "  name.nativeName.fra.common name.nativeName.kat.official  \\\n",
      "0                       Togo                          NaN   \n",
      "1                    Mayotte                          NaN   \n",
      "2                        NaN                   საქართველო   \n",
      "3                    Vanuatu                          NaN   \n",
      "4                        NaN                          NaN   \n",
      "\n",
      "  name.nativeName.kat.common  ... name.nativeName.uzb.official  \\\n",
      "0                        NaN  ...                          NaN   \n",
      "1                        NaN  ...                          NaN   \n",
      "2                 საქართველო  ...                          NaN   \n",
      "3                        NaN  ...                          NaN   \n",
      "4                        NaN  ...                          NaN   \n",
      "\n",
      "  name.nativeName.uzb.common name.nativeName.ukr.official  \\\n",
      "0                        NaN                          NaN   \n",
      "1                        NaN                          NaN   \n",
      "2                        NaN                          NaN   \n",
      "3                        NaN                          NaN   \n",
      "4                        NaN                          NaN   \n",
      "\n",
      "  name.nativeName.ukr.common name.nativeName.bjz.official  \\\n",
      "0                        NaN                          NaN   \n",
      "1                        NaN                          NaN   \n",
      "2                        NaN                          NaN   \n",
      "3                        NaN                          NaN   \n",
      "4                        NaN                          NaN   \n",
      "\n",
      "  name.nativeName.bjz.common name.nativeName.nfr.official  \\\n",
      "0                        NaN                          NaN   \n",
      "1                        NaN                          NaN   \n",
      "2                        NaN                          NaN   \n",
      "3                        NaN                          NaN   \n",
      "4                        NaN                          NaN   \n",
      "\n",
      "  name.nativeName.nfr.common name.nativeName.tkl.official  \\\n",
      "0                        NaN                          NaN   \n",
      "1                        NaN                          NaN   \n",
      "2                        NaN                          NaN   \n",
      "3                        NaN                          NaN   \n",
      "4                        NaN                          NaN   \n",
      "\n",
      "  name.nativeName.tkl.common  \n",
      "0                        NaN  \n",
      "1                        NaN  \n",
      "2                        NaN  \n",
      "3                        NaN  \n",
      "4                        NaN  \n",
      "\n",
      "[5 rows x 312 columns]\n"
     ]
    }
   ],
   "source": [
    "df =extract_countries_data()\n",
    "df.to_csv (r\"C:\\Users\\hp\\Documents\\Countries Worldwide Info\\raw_countriesdata.csv\", index=False)\n",
    "print(df.head())"
   ]
  }
 ],
 "metadata": {
  "kernelspec": {
   "display_name": "venv",
   "language": "python",
   "name": "python3"
  },
  "language_info": {
   "codemirror_mode": {
    "name": "ipython",
    "version": 3
   },
   "file_extension": ".py",
   "mimetype": "text/x-python",
   "name": "python",
   "nbconvert_exporter": "python",
   "pygments_lexer": "ipython3",
   "version": "3.10.11"
  }
 },
 "nbformat": 4,
 "nbformat_minor": 5
}
