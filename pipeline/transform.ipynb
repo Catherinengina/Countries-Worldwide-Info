{
 "cells": [
  {
   "cell_type": "markdown",
   "id": "ce77d96c",
   "metadata": {},
   "source": [
    "Libraries"
   ]
  },
  {
   "cell_type": "code",
   "execution_count": 5,
   "id": "39f1f8fb",
   "metadata": {},
   "outputs": [],
   "source": [
    "import pandas as pd"
   ]
  },
  {
   "cell_type": "markdown",
   "id": "c588eb12",
   "metadata": {},
   "source": [
    "Clean and Transform"
   ]
  },
  {
   "cell_type": "code",
   "execution_count": 6,
   "id": "ac072590",
   "metadata": {},
   "outputs": [
    {
     "name": "stdout",
     "output_type": "stream",
     "text": [
      "      Country      Area  Population Continent   Capital City\n",
      "0        Togo   56785.0     8278737    Africa       ['Lomé']\n",
      "1     Mayotte     374.0      226915    Africa  ['Mamoudzou']\n",
      "2     Georgia   69700.0     3714000      Asia    ['Tbilisi']\n",
      "3     Vanuatu   12189.0      307150   Oceania  ['Port Vila']\n",
      "4  Kyrgyzstan  199951.0     6591600      Asia    ['Bishkek']\n"
     ]
    }
   ],
   "source": [
    "df = pd.read_csv(r\"C:\\Users\\hp\\Documents\\Countries Worldwide Info\\raw_countriesdata.csv\")\n",
    "df = df[['name.common', 'area', 'population', 'region', 'capital']] \n",
    "df.dropna(inplace=True)\n",
    "df = df[(df['area'] > 0) & (df['population'] > 0)]\n",
    "df.columns = ['Country', 'Area', 'Population', 'Continent', 'Capital City']\n",
    "df.to_csv (r\"C:\\Users\\hp\\Documents\\Countries Worldwide Info\\cleaned_countriesdata.csv\", index=False)\n",
    "print(df.head())"
   ]
  }
 ],
 "metadata": {
  "kernelspec": {
   "display_name": "venv",
   "language": "python",
   "name": "python3"
  },
  "language_info": {
   "codemirror_mode": {
    "name": "ipython",
    "version": 3
   },
   "file_extension": ".py",
   "mimetype": "text/x-python",
   "name": "python",
   "nbconvert_exporter": "python",
   "pygments_lexer": "ipython3",
   "version": "3.10.11"
  }
 },
 "nbformat": 4,
 "nbformat_minor": 5
}
